{
  "metadata": {
    "language_info": {
      "codemirror_mode": {
        "name": "python",
        "version": 3
      },
      "file_extension": ".py",
      "mimetype": "text/x-python",
      "name": "python",
      "nbconvert_exporter": "python",
      "pygments_lexer": "ipython3",
      "version": "3.8"
    },
    "kernelspec": {
      "name": "python",
      "display_name": "Pyolite",
      "language": "python"
    }
  },
  "nbformat_minor": 4,
  "nbformat": 4,
  "cells": [
    {
      "cell_type": "markdown",
      "source": "",
      "metadata": {
        "jupyter": {
          "source_hidden": true
        },
        "tags": [],
        "trusted": true
      }
    },
    {
      "cell_type": "markdown",
      "source": "# Data Science and Ecosystem",
      "metadata": {
        "trusted": true
      }
    },
    {
      "cell_type": "markdown",
      "source": "## In this Notebook, Data Science Tools and Ecosystem are summarized",
      "metadata": {
        "trusted": true
      }
    },
    {
      "cell_type": "markdown",
      "source": " ## **Objectives:**\n \n #### - List Popular Languages for Data Science\n #### - List Commonly Used Libraries in Data Science\n #### - List popular tools for Data Science\n #### - Introduce basic functions ",
      "metadata": {
        "trusted": true
      }
    },
    {
      "cell_type": "markdown",
      "source": "## Some of the popular languages that data Scientists use are:\n#### 1. R  \n#### 2. C/C++ \n#### 3. JAVA\n#### 4. PYTHON \n",
      "metadata": {
        "trusted": true
      }
    },
    {
      "cell_type": "markdown",
      "source": "## Some of the commonly used libraries are:\n#### 1.Pandas\n#### 2. PyTorch\n#### 3. Tensorflow\n#### 4. NumPy\n#### 5. Keras",
      "metadata": {
        "trusted": true
      }
    },
    {
      "cell_type": "markdown",
      "source": "\n## ***Data Science Tools***\n ### *RStudio* \n ### *TensorFlow* \n ### *Apache Spark*",
      "metadata": {
        "trusted": true
      }
    },
    {
      "cell_type": "markdown",
      "source": "## Below are a few examples of evaluating arithmetic expressions in Python: \n",
      "metadata": {
        "trusted": true
      }
    },
    {
      "cell_type": "code",
      "source": " (25 + 5) * 3\n",
      "metadata": {
        "trusted": true
      },
      "execution_count": 1,
      "outputs": [
        {
          "execution_count": 1,
          "output_type": "execute_result",
          "data": {
            "text/plain": "90"
          },
          "metadata": {}
        }
      ]
    },
    {
      "cell_type": "code",
      "source": " (34 - 6) + 18",
      "metadata": {
        "trusted": true
      },
      "execution_count": 2,
      "outputs": [
        {
          "execution_count": 2,
          "output_type": "execute_result",
          "data": {
            "text/plain": "46"
          },
          "metadata": {}
        }
      ]
    },
    {
      "cell_type": "code",
      "source": "18 + 23 - 10\n",
      "metadata": {
        "trusted": true
      },
      "execution_count": 3,
      "outputs": [
        {
          "execution_count": 3,
          "output_type": "execute_result",
          "data": {
            "text/plain": "31"
          },
          "metadata": {}
        }
      ]
    },
    {
      "cell_type": "code",
      "source": "(78 - 34) * 23",
      "metadata": {
        "trusted": true
      },
      "execution_count": 5,
      "outputs": [
        {
          "execution_count": 5,
          "output_type": "execute_result",
          "data": {
            "text/plain": "1012"
          },
          "metadata": {}
        }
      ]
    },
    {
      "cell_type": "markdown",
      "source": "## This is a simple arithmetic expression to multiply then add integers:",
      "metadata": {
        "trusted": true
      }
    },
    {
      "cell_type": "code",
      "source": "(3*4)+5",
      "metadata": {
        "trusted": true
      },
      "execution_count": 6,
      "outputs": [
        {
          "execution_count": 6,
          "output_type": "execute_result",
          "data": {
            "text/plain": "17"
          },
          "metadata": {}
        }
      ]
    },
    {
      "cell_type": "markdown",
      "source": "## This will convert 200 minutes to hours by dividing by 60:",
      "metadata": {
        "trusted": true
      }
    },
    {
      "cell_type": "code",
      "source": " 200/60",
      "metadata": {
        "trusted": true
      },
      "execution_count": 7,
      "outputs": [
        {
          "execution_count": 7,
          "output_type": "execute_result",
          "data": {
            "text/plain": "3.3333333333333335"
          },
          "metadata": {}
        }
      ]
    },
    {
      "cell_type": "markdown",
      "source": "## Author \n#### Maria Tsekoura ",
      "metadata": {
        "trusted": true
      }
    },
    {
      "cell_type": "code",
      "source": "",
      "metadata": {
        "trusted": true
      },
      "execution_count": null,
      "outputs": []
    }
  ]
}